{
 "cells": [
  {
   "cell_type": "markdown",
   "id": "39e1e4d9",
   "metadata": {},
   "source": [
    "# Importing Data dan Inspection\n",
    "1. mencetak lima data teratas saja,\n",
    "2. mencetak info dataset."
   ]
  },
  {
   "cell_type": "code",
   "execution_count": 4,
   "id": "6d90668b",
   "metadata": {},
   "outputs": [],
   "source": [
    "import pandas as pd"
   ]
  },
  {
   "cell_type": "code",
   "execution_count": 5,
   "id": "90f2a4a9",
   "metadata": {},
   "outputs": [],
   "source": [
    "df = pd.read_csv('https://storage.googleapis.com/dqlab-dataset/data_retail.csv' , sep=';')"
   ]
  },
  {
   "cell_type": "code",
   "execution_count": 6,
   "id": "9c0fca0e",
   "metadata": {},
   "outputs": [
    {
     "name": "stdout",
     "output_type": "stream",
     "text": [
      "Lima data teratas:\n",
      "   no  Row_Num  Customer_ID Product  First_Transaction  Last_Transaction  \\\n",
      "0   1        1        29531   Jaket      1466304274396     1538718482608   \n",
      "1   2        2        29531  Sepatu      1406077331494     1545735761270   \n",
      "2   3        3       141526     Tas      1493349147000     1548322802000   \n",
      "3   4        4       141526   Jaket      1493362372547     1547643603911   \n",
      "4   5        5        37545  Sepatu      1429178498531     1542891221530   \n",
      "\n",
      "   Average_Transaction_Amount  Count_Transaction  \n",
      "0                     1467681                 22  \n",
      "1                     1269337                 41  \n",
      "2                      310915                 30  \n",
      "3                      722632                 27  \n",
      "4                     1775036                 25  \n"
     ]
    }
   ],
   "source": [
    "print('Lima data teratas:')\n",
    "print(df.head())"
   ]
  },
  {
   "cell_type": "code",
   "execution_count": 7,
   "id": "b9ab0461",
   "metadata": {},
   "outputs": [
    {
     "name": "stdout",
     "output_type": "stream",
     "text": [
      "\n",
      "Info dataset:\n",
      "<class 'pandas.core.frame.DataFrame'>\n",
      "RangeIndex: 100000 entries, 0 to 99999\n",
      "Data columns (total 8 columns):\n",
      " #   Column                      Non-Null Count   Dtype \n",
      "---  ------                      --------------   ----- \n",
      " 0   no                          100000 non-null  int64 \n",
      " 1   Row_Num                     100000 non-null  int64 \n",
      " 2   Customer_ID                 100000 non-null  int64 \n",
      " 3   Product                     100000 non-null  object\n",
      " 4   First_Transaction           100000 non-null  int64 \n",
      " 5   Last_Transaction            100000 non-null  int64 \n",
      " 6   Average_Transaction_Amount  100000 non-null  int64 \n",
      " 7   Count_Transaction           100000 non-null  int64 \n",
      "dtypes: int64(7), object(1)\n",
      "memory usage: 6.1+ MB\n",
      "None\n"
     ]
    }
   ],
   "source": [
    "print('\\nInfo dataset:')\n",
    "print(df.info())"
   ]
  },
  {
   "cell_type": "markdown",
   "id": "c9739143",
   "metadata": {},
   "source": [
    "# Data Cleansing\n",
    "\n",
    "Merubah kolom yang tidak bertipe datetime ke tipe data datetime"
   ]
  },
  {
   "cell_type": "code",
   "execution_count": 10,
   "id": "d5f9fccb",
   "metadata": {},
   "outputs": [],
   "source": [
    "df = pd.read_csv('https://storage.googleapis.com/dqlab-dataset/data_retail.csv', sep=';')"
   ]
  },
  {
   "cell_type": "code",
   "execution_count": 11,
   "id": "f6d54bf9",
   "metadata": {},
   "outputs": [],
   "source": [
    "# Kolom First_Transaction\n",
    "df['First_Transaction'] = pd.to_datetime(df['First_Transaction']/1000, unit='s', origin='1970-01-01')"
   ]
  },
  {
   "cell_type": "code",
   "execution_count": 12,
   "id": "b780d242",
   "metadata": {},
   "outputs": [],
   "source": [
    "# Kolom Last_Transaction\n",
    "df['Last_Transaction'] = pd.to_datetime(df['Last_Transaction']/1000, unit='s', origin='1970-01-01')"
   ]
  },
  {
   "cell_type": "code",
   "execution_count": 13,
   "id": "5e4c5689",
   "metadata": {},
   "outputs": [
    {
     "name": "stdout",
     "output_type": "stream",
     "text": [
      "Lima data teratas:\n",
      "   no  Row_Num  Customer_ID Product             First_Transaction  \\\n",
      "0   1        1        29531   Jaket 2016-06-19 02:44:34.396000000   \n",
      "1   2        2        29531  Sepatu 2014-07-23 01:02:11.493999872   \n",
      "2   3        3       141526     Tas 2017-04-28 03:12:27.000000000   \n",
      "3   4        4       141526   Jaket 2017-04-28 06:52:52.546999808   \n",
      "4   5        5        37545  Sepatu 2015-04-16 10:01:38.530999808   \n",
      "\n",
      "               Last_Transaction  Average_Transaction_Amount  Count_Transaction  \n",
      "0 2018-10-05 05:48:02.608000000                     1467681                 22  \n",
      "1 2018-12-25 11:02:41.269999872                     1269337                 41  \n",
      "2 2019-01-24 09:40:02.000000000                      310915                 30  \n",
      "3 2019-01-16 13:00:03.911000064                      722632                 27  \n",
      "4 2018-11-22 12:53:41.529999872                     1775036                 25  \n"
     ]
    }
   ],
   "source": [
    "print('Lima data teratas:')\n",
    "print(df.head())"
   ]
  },
  {
   "cell_type": "code",
   "execution_count": 14,
   "id": "c3a3c309",
   "metadata": {},
   "outputs": [
    {
     "name": "stdout",
     "output_type": "stream",
     "text": [
      "\n",
      "Info dataset:\n",
      "<class 'pandas.core.frame.DataFrame'>\n",
      "RangeIndex: 100000 entries, 0 to 99999\n",
      "Data columns (total 8 columns):\n",
      " #   Column                      Non-Null Count   Dtype         \n",
      "---  ------                      --------------   -----         \n",
      " 0   no                          100000 non-null  int64         \n",
      " 1   Row_Num                     100000 non-null  int64         \n",
      " 2   Customer_ID                 100000 non-null  int64         \n",
      " 3   Product                     100000 non-null  object        \n",
      " 4   First_Transaction           100000 non-null  datetime64[ns]\n",
      " 5   Last_Transaction            100000 non-null  datetime64[ns]\n",
      " 6   Average_Transaction_Amount  100000 non-null  int64         \n",
      " 7   Count_Transaction           100000 non-null  int64         \n",
      "dtypes: datetime64[ns](2), int64(5), object(1)\n",
      "memory usage: 6.1+ MB\n",
      "None\n"
     ]
    }
   ],
   "source": [
    "print('\\nInfo dataset:')\n",
    "print(df.info())"
   ]
  },
  {
   "cell_type": "code",
   "execution_count": null,
   "id": "7f61d18d",
   "metadata": {},
   "outputs": [],
   "source": []
  }
 ],
 "metadata": {
  "kernelspec": {
   "display_name": "Python 3 (ipykernel)",
   "language": "python",
   "name": "python3"
  },
  "language_info": {
   "codemirror_mode": {
    "name": "ipython",
    "version": 3
   },
   "file_extension": ".py",
   "mimetype": "text/x-python",
   "name": "python",
   "nbconvert_exporter": "python",
   "pygments_lexer": "ipython3",
   "version": "3.9.12"
  }
 },
 "nbformat": 4,
 "nbformat_minor": 5
}
